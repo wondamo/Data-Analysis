{
<<<<<<< HEAD
 "cells": [
  {
   "cell_type": "markdown",
   "metadata": {
    "colab_type": "text",
    "id": "view-in-github"
   },
   "source": [
    "<a href=\"https://colab.research.google.com/github/Wondav/Data-Analysis/blob/main/Model_Improvement.ipynb\" target=\"_parent\"><img src=\"https://colab.research.google.com/assets/colab-badge.svg\" alt=\"Open In Colab\"/></a>"
   ]
  },
  {
   "cell_type": "code",
   "execution_count": 1,
   "metadata": {
    "colab": {
     "base_uri": "https://localhost:8080/"
    },
    "id": "fGvfAAdx5gDo",
    "outputId": "356cf740-7542-40b5-e59d-81d162a884cd"
   },
   "outputs": [],
   "source": [
    "import numpy as np\n",
    "import pandas as pd\n",
    "import seaborn as sns\n",
    "import matplotlib.pyplot as plt\n",
    "import joblib\n",
    "import optuna\n",
    "from sklearn.model_selection import StratifiedKFold,cross_val_score\n",
    "from sklearn.preprocessing import PolynomialFeatures\n",
    "from catboost import CatBoostClassifier\n",
    "from sklearn.metrics import accuracy_score"
   ]
  },
  {
   "cell_type": "code",
   "execution_count": 2,
   "metadata": {
    "colab": {
     "base_uri": "https://localhost:8080/",
     "height": 225
    },
    "id": "372XPoK8OMQ2",
    "outputId": "b91d188c-2376-4b88-bc8f-b164bc8771ab"
   },
   "outputs": [
    {
     "data": {
      "text/html": [
       "<div>\n",
       "<style scoped>\n",
       "    .dataframe tbody tr th:only-of-type {\n",
       "        vertical-align: middle;\n",
       "    }\n",
       "\n",
       "    .dataframe tbody tr th {\n",
       "        vertical-align: top;\n",
       "    }\n",
       "\n",
       "    .dataframe thead th {\n",
       "        text-align: right;\n",
       "    }\n",
       "</style>\n",
       "<table border=\"1\" class=\"dataframe\">\n",
       "  <thead>\n",
       "    <tr style=\"text-align: right;\">\n",
       "      <th></th>\n",
       "      <th>Gender</th>\n",
       "      <th>Married</th>\n",
       "      <th>Dependents</th>\n",
       "      <th>Education</th>\n",
       "      <th>Self_Employed</th>\n",
       "      <th>ApplicantIncome</th>\n",
       "      <th>CoapplicantIncome</th>\n",
       "      <th>LoanAmount</th>\n",
       "      <th>Loan_Amount_Term</th>\n",
       "      <th>Credit_History</th>\n",
       "      <th>Property_Area</th>\n",
       "      <th>Loan_Status</th>\n",
       "      <th>Loan_ID</th>\n",
       "    </tr>\n",
       "  </thead>\n",
       "  <tbody>\n",
       "    <tr>\n",
       "      <th>0</th>\n",
       "      <td>1.0</td>\n",
       "      <td>0.0</td>\n",
       "      <td>0.0</td>\n",
       "      <td>1.0</td>\n",
       "      <td>0.0</td>\n",
       "      <td>5849.0</td>\n",
       "      <td>0.0</td>\n",
       "      <td>148.0</td>\n",
       "      <td>360.0</td>\n",
       "      <td>1.0</td>\n",
       "      <td>2.0</td>\n",
       "      <td>1.0</td>\n",
       "      <td>LP001002</td>\n",
       "    </tr>\n",
       "    <tr>\n",
       "      <th>1</th>\n",
       "      <td>1.0</td>\n",
       "      <td>1.0</td>\n",
       "      <td>1.0</td>\n",
       "      <td>1.0</td>\n",
       "      <td>0.0</td>\n",
       "      <td>4583.0</td>\n",
       "      <td>1508.0</td>\n",
       "      <td>128.0</td>\n",
       "      <td>360.0</td>\n",
       "      <td>1.0</td>\n",
       "      <td>0.0</td>\n",
       "      <td>0.0</td>\n",
       "      <td>LP001003</td>\n",
       "    </tr>\n",
       "    <tr>\n",
       "      <th>2</th>\n",
       "      <td>1.0</td>\n",
       "      <td>1.0</td>\n",
       "      <td>0.0</td>\n",
       "      <td>1.0</td>\n",
       "      <td>1.0</td>\n",
       "      <td>3000.0</td>\n",
       "      <td>0.0</td>\n",
       "      <td>66.0</td>\n",
       "      <td>360.0</td>\n",
       "      <td>1.0</td>\n",
       "      <td>2.0</td>\n",
       "      <td>1.0</td>\n",
       "      <td>LP001005</td>\n",
       "    </tr>\n",
       "    <tr>\n",
       "      <th>3</th>\n",
       "      <td>1.0</td>\n",
       "      <td>1.0</td>\n",
       "      <td>0.0</td>\n",
       "      <td>0.0</td>\n",
       "      <td>0.0</td>\n",
       "      <td>2583.0</td>\n",
       "      <td>2358.0</td>\n",
       "      <td>120.0</td>\n",
       "      <td>360.0</td>\n",
       "      <td>1.0</td>\n",
       "      <td>2.0</td>\n",
       "      <td>1.0</td>\n",
       "      <td>LP001006</td>\n",
       "    </tr>\n",
       "    <tr>\n",
       "      <th>4</th>\n",
       "      <td>1.0</td>\n",
       "      <td>0.0</td>\n",
       "      <td>0.0</td>\n",
       "      <td>1.0</td>\n",
       "      <td>0.0</td>\n",
       "      <td>6000.0</td>\n",
       "      <td>0.0</td>\n",
       "      <td>141.0</td>\n",
       "      <td>360.0</td>\n",
       "      <td>1.0</td>\n",
       "      <td>2.0</td>\n",
       "      <td>1.0</td>\n",
       "      <td>LP001008</td>\n",
       "    </tr>\n",
       "  </tbody>\n",
       "</table>\n",
       "</div>"
      ],
      "text/plain": [
       "   Gender  Married  Dependents  Education  Self_Employed  ApplicantIncome  \\\n",
       "0     1.0      0.0         0.0        1.0            0.0           5849.0   \n",
       "1     1.0      1.0         1.0        1.0            0.0           4583.0   \n",
       "2     1.0      1.0         0.0        1.0            1.0           3000.0   \n",
       "3     1.0      1.0         0.0        0.0            0.0           2583.0   \n",
       "4     1.0      0.0         0.0        1.0            0.0           6000.0   \n",
       "\n",
       "   CoapplicantIncome  LoanAmount  Loan_Amount_Term  Credit_History  \\\n",
       "0                0.0       148.0             360.0             1.0   \n",
       "1             1508.0       128.0             360.0             1.0   \n",
       "2                0.0        66.0             360.0             1.0   \n",
       "3             2358.0       120.0             360.0             1.0   \n",
       "4                0.0       141.0             360.0             1.0   \n",
       "\n",
       "   Property_Area  Loan_Status   Loan_ID  \n",
       "0            2.0          1.0  LP001002  \n",
       "1            0.0          0.0  LP001003  \n",
       "2            2.0          1.0  LP001005  \n",
       "3            2.0          1.0  LP001006  \n",
       "4            2.0          1.0  LP001008  "
      ]
     },
     "execution_count": 2,
     "metadata": {},
     "output_type": "execute_result"
    }
   ],
   "source": [
    "data=pd.read_csv(\"data_cleaned.csv\")\n",
    "data.head()"
   ]
  },
  {
   "cell_type": "markdown",
   "metadata": {
    "id": "SPYi4rhWr3UZ"
   },
   "source": [
    "## Feature Engineering"
   ]
  },
  {
   "cell_type": "code",
   "execution_count": 3,
   "metadata": {
    "id": "TCVsNmyiW7Pc"
   },
   "outputs": [],
   "source": [
    "poly=PolynomialFeatures(degree=2, interaction_only=True,include_bias=False)\n",
    "\n",
    "data['TotalIncome']=data['ApplicantIncome']+data['CoapplicantIncome']\n",
    "data['IncomeByLoan']=data['TotalIncome']/data['LoanAmount']\n",
    "data['ApplicantByLoan']=data['ApplicantIncome']/data['LoanAmount']\n",
    "data['CoapplicantByLoan']=data['CoapplicantIncome']/data['LoanAmount']\n",
    "data['LoanByTerm']=data['LoanAmount']/data['Loan_Amount_Term']\n",
    "\n",
    "\n",
    "poly1=poly.fit_transform(data[['ApplicantIncome','CoapplicantIncome','LoanAmount','TotalIncome','IncomeByLoan','ApplicantByLoan','CoapplicantByLoan','LoanByTerm']])\n",
    "df_poly=pd.DataFrame(poly1, columns=[f'poly_{i}' for i in range(poly1.shape[1])])\n"
   ]
  },
  {
   "cell_type": "code",
   "execution_count": 4,
   "metadata": {
    "id": "a338mUC-YuJF"
   },
   "outputs": [],
   "source": [
    "new_data=pd.concat([data,df_poly],axis=1)"
   ]
  },
  {
   "cell_type": "code",
   "execution_count": 5,
   "metadata": {
    "id": "zuezsooIcGnR"
   },
   "outputs": [],
   "source": [
    "X=new_data.drop(['Loan_ID','Loan_Status'],axis=1)\n",
    "y=new_data['Loan_Status']"
   ]
  },
  {
   "cell_type": "markdown",
   "metadata": {
    "id": "kGJmU_a6sDz7"
   },
   "source": [
    "## Model Development"
   ]
  },
  {
   "cell_type": "code",
   "execution_count": 6,
   "metadata": {},
   "outputs": [
    {
     "name": "stdout",
     "output_type": "stream",
     "text": [
      "Accuracy, fold_1: 0.8130081300813008\n",
      "Accuracy, fold_2: 0.8048780487804879\n",
      "Accuracy, fold_3: 0.7804878048780488\n",
      "Accuracy, fold_4: 0.8536585365853658\n",
      "Accuracy, fold_5: 0.819672131147541\n",
      "0.8143409302945489\n"
     ]
    }
   ],
   "source": [
    "fold=StratifiedKFold(n_splits=5)\n",
    "\n",
    "F1,i=[],1\n",
    "for train, test in fold.split(X,y):\n",
    "    X_train, X_test = X.iloc[train],X.iloc[test]\n",
    "    y_train, y_test = y.iloc[train],y.iloc[test]\n",
    "    \n",
    "    cat=CatBoostClassifier(verbose=False)\n",
    "    \n",
    "    cat.fit(X_train,y_train)\n",
    "    \n",
    "    preds=cat.predict(X_test)\n",
    "    \n",
    "    print(f'Accuracy, fold_{i}: {accuracy_score(y_test,preds)}')\n",
    "    i+=1\n",
    "    F1.append(accuracy_score(y_test,preds))\n",
    "print(np.mean(F1))"
   ]
  },
  {
   "cell_type": "markdown",
   "metadata": {
    "id": "m-OFZoqosRXe"
   },
   "source": [
    "## Feature Selection"
   ]
  },
  {
   "cell_type": "code",
   "execution_count": 7,
   "metadata": {
    "colab": {
     "base_uri": "https://localhost:8080/",
     "height": 675
    },
    "id": "vvY87WQRZVzN",
    "outputId": "ceba7b85-86f2-4a58-e421-5af0db51ad2d"
   },
   "outputs": [
    {
     "data": {
      "text/plain": [
       "Text(0.5, 1.0, 'Model features importance:')"
      ]
     },
     "execution_count": 7,
     "metadata": {},
     "output_type": "execute_result"
    },
    {
     "data": {
      "image/png": "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\n",
      "text/plain": [
       "<Figure size 1440x864 with 1 Axes>"
      ]
     },
     "metadata": {
      "needs_background": "light"
     },
     "output_type": "display_data"
    }
   ],
   "source": [
    "# 0.7831404345536787\n",
    "feature_importance_df = pd.DataFrame(cat.feature_importances_, columns=['importance'])\n",
    "feature_importance_df['feature'] = new_data.drop(['Loan_ID','Loan_Status'],axis=1).columns\n",
    "\n",
    "plt.figure(figsize=(20, 12))\n",
    "sns.barplot(x=\"importance\", y=\"feature\", data=feature_importance_df.sort_values(by = ['importance'], ascending = False).head(60))\n",
    "plt.title('Model features importance:')"
   ]
  },
  {
   "cell_type": "code",
   "execution_count": 8,
   "metadata": {
    "id": "WdbweSh_baap"
   },
   "outputs": [],
   "source": [
    "cat_feat = feature_importance_df.sort_values(by = ['importance'], ascending = False).head(30)['feature'].to_list()"
   ]
  },
  {
   "cell_type": "code",
   "execution_count": 9,
   "metadata": {
    "id": "M8PvUf_dbjfm"
   },
   "outputs": [],
   "source": [
    "X= new_data[cat_feat]"
   ]
  },
  {
   "cell_type": "markdown",
   "metadata": {
    "id": "gPyxYtXtsayb"
   },
   "source": [
    "## Hyperparameter Optimization"
   ]
  },
  {
   "cell_type": "code",
   "execution_count": 10,
   "metadata": {
    "id": "m6efM2ha82s0"
   },
   "outputs": [],
   "source": [
    "def objective(trial):\n",
    "    oof_f1=[]\n",
    "    oof_predictions=[]\n",
    "\n",
    "\n",
    "    param = {}\n",
    "    param['learning_rate'] = trial.suggest_discrete_uniform(\"learning_rate\", 0.001, 0.1, 0.001)\n",
    "    param['depth'] = trial.suggest_int('depth', 3, 15)\n",
    "    param['l2_leaf_reg'] = trial.suggest_discrete_uniform('l2_leaf_reg', 1.0, 5.5, 0.5)\n",
    "    param['min_child_samples'] = trial.suggest_categorical('min_child_samples', [1, 4, 8, 16, 32])\n",
    "    param['iterations'] = trial.suggest_discrete_uniform(\"iterations\", 200, 4000, 50)\n",
    "    param[\"colsample_bylevel\"] =  trial.suggest_float(\"colsample_bylevel\", 0.01, 0.1)\n",
    "    param['random_state'] = 0\n",
    "    param['scale_pos_weight'] = trial.suggest_int('scale_pos_weight', 1, 10)\n",
    "    param['bootstrap_type'] = trial.suggest_categorical(\"bootstrap_type\", [\"Bayesian\", \"Bernoulli\", \"MVS\"])\n",
    "    param['logging_level'] = 'Silent'\n",
    "\n",
    "\n",
    "\n",
    "    fold=StratifiedKFold(n_splits=5)\n",
    "    i=1\n",
    "    for train_index, test_index in fold.split(X,y):\n",
    "        \n",
    "        X_train, X_test = X.iloc[train_index], X.iloc[test_index]\n",
    "        y_train, y_test = y.iloc[train_index], y.iloc[test_index]\n",
    "        cat = CatBoostClassifier(**param)\n",
    "    \n",
    "\n",
    "        cat.fit(X_train,y_train,eval_set=[(X_train,y_train),(X_test, y_test)], early_stopping_rounds=100, verbose = False)#erly100\n",
    "        preds=cat.predict(X_test)\n",
    "\n",
    "        oof_f1.append(accuracy_score(y_test,preds))\n",
    "\n",
    "    return np.mean(oof_f1)"
   ]
  },
  {
   "cell_type": "code",
   "execution_count": 11,
   "metadata": {
    "id": "I2E9OJ3T_Ck_"
   },
   "outputs": [],
   "source": [
    "optuna.logging.set_verbosity(optuna.logging.WARNING)\n",
    "\n",
    "study = optuna.create_study(direction=\"maximize\")\n",
    "study.optimize(objective, n_trials=100)"
   ]
  },
  {
   "cell_type": "code",
   "execution_count": 12,
   "metadata": {
    "colab": {
     "base_uri": "https://localhost:8080/"
    },
    "id": "APOpYcgCVyju",
    "outputId": "10f97546-f68d-4c1f-a13c-225c7f132c47"
   },
   "outputs": [
    {
     "name": "stdout",
     "output_type": "stream",
     "text": [
      "Number of finished trials: 100\n",
      "Best trial:\n",
      "  Value: 0.8257363721178196\n",
      "  Params: \n",
      "    learning_rate: 0.025\n",
      "    depth: 3\n",
      "    l2_leaf_reg: 1.0\n",
      "    min_child_samples: 32\n",
      "    iterations: 1650.0\n",
      "    colsample_bylevel: 0.09791445180073374\n",
      "    scale_pos_weight: 1\n",
      "    bootstrap_type: MVS\n"
     ]
    }
   ],
   "source": [
    "print(\"Number of finished trials: {}\".format(len(study.trials)))\n",
    "\n",
    "print(\"Best trial:\")\n",
    "trial = study.best_trial\n",
    "\n",
    "print(\"  Value: {}\".format(trial.value))\n",
    "\n",
    "print(\"  Params: \")\n",
    "for key, value in trial.params.items():\n",
    "    print(\"    {}: {}\".format(key, value))"
   ]
  },
  {
   "cell_type": "code",
   "execution_count": 18,
   "metadata": {},
   "outputs": [],
   "source": [
    "model = CatBoostClassifier(**study.best_params, verbose=False)"
   ]
  },
  {
   "cell_type": "code",
   "execution_count": 19,
   "metadata": {},
   "outputs": [
    {
     "data": {
      "text/plain": [
       "<catboost.core.CatBoostClassifier at 0x214a2d5bfa0>"
      ]
     },
     "execution_count": 19,
     "metadata": {},
     "output_type": "execute_result"
    }
   ],
   "source": [
    "model.fit(X,y)"
   ]
  },
  {
   "cell_type": "code",
   "execution_count": 20,
   "metadata": {},
   "outputs": [
    {
     "data": {
      "text/plain": [
       "['cat_loan']"
      ]
     },
     "execution_count": 20,
     "metadata": {},
     "output_type": "execute_result"
    }
   ],
   "source": [
    "joblib.dump(model, 'cat_loan')"
   ]
  }
 ],
 "metadata": {
  "colab": {
   "authorship_tag": "ABX9TyNSjKaCas2++a+HRY2aotvu",
   "collapsed_sections": [],
   "include_colab_link": true,
   "mount_file_id": "1ee8_pOLtSlZ9zgvAS5FeFAxiuGkjEQBE",
   "name": "Model_Improvement.ipynb",
   "provenance": []
  },
  "kernelspec": {
   "display_name": "Python 3 (ipykernel)",
   "language": "python",
   "name": "python3"
  },
  "language_info": {
   "codemirror_mode": {
    "name": "ipython",
    "version": 3
   },
   "file_extension": ".py",
   "mimetype": "text/x-python",
   "name": "python",
   "nbconvert_exporter": "python",
   "pygments_lexer": "ipython3",
   "version": "3.10.4"
  },
  "vscode": {
   "interpreter": {
    "hash": "34024564ae41f543771def55e1cc8f8e6526295bc4872b924a19ccccfa692b05"
   }
  }
 },
 "nbformat": 4,
 "nbformat_minor": 1
=======
  "cells": [
    {
      "cell_type": "markdown",
      "metadata": {
        "colab_type": "text",
        "id": "view-in-github"
      },
      "source": [
        "<a href=\"https://colab.research.google.com/github/Wondav/Data-Analysis/blob/main/Model_Improvement.ipynb\" target=\"_parent\"><img src=\"https://colab.research.google.com/assets/colab-badge.svg\" alt=\"Open In Colab\"/></a>"
      ]
    },
    {
      "cell_type": "code",
      "execution_count": 1,
      "metadata": {
        "colab": {
          "base_uri": "https://localhost:8080/"
        },
        "id": "fGvfAAdx5gDo",
        "outputId": "356cf740-7542-40b5-e59d-81d162a884cd"
      },
      "outputs": [
        {
          "name": "stdout",
          "output_type": "stream",
          "text": [
            "Requirement already satisfied: catboost in /usr/local/lib/python3.7/dist-packages (1.0.3)\n",
            "Requirement already satisfied: pandas>=0.24.0 in /usr/local/lib/python3.7/dist-packages (from catboost) (1.1.5)\n",
            "Requirement already satisfied: numpy>=1.16.0 in /usr/local/lib/python3.7/dist-packages (from catboost) (1.19.5)\n",
            "Requirement already satisfied: matplotlib in /usr/local/lib/python3.7/dist-packages (from catboost) (3.2.2)\n",
            "Requirement already satisfied: plotly in /usr/local/lib/python3.7/dist-packages (from catboost) (4.4.1)\n",
            "Requirement already satisfied: graphviz in /usr/local/lib/python3.7/dist-packages (from catboost) (0.10.1)\n",
            "Requirement already satisfied: scipy in /usr/local/lib/python3.7/dist-packages (from catboost) (1.4.1)\n",
            "Requirement already satisfied: six in /usr/local/lib/python3.7/dist-packages (from catboost) (1.15.0)\n",
            "Requirement already satisfied: python-dateutil>=2.7.3 in /usr/local/lib/python3.7/dist-packages (from pandas>=0.24.0->catboost) (2.8.2)\n",
            "Requirement already satisfied: pytz>=2017.2 in /usr/local/lib/python3.7/dist-packages (from pandas>=0.24.0->catboost) (2018.9)\n",
            "Requirement already satisfied: cycler>=0.10 in /usr/local/lib/python3.7/dist-packages (from matplotlib->catboost) (0.11.0)\n",
            "Requirement already satisfied: pyparsing!=2.0.4,!=2.1.2,!=2.1.6,>=2.0.1 in /usr/local/lib/python3.7/dist-packages (from matplotlib->catboost) (2.4.7)\n",
            "Requirement already satisfied: kiwisolver>=1.0.1 in /usr/local/lib/python3.7/dist-packages (from matplotlib->catboost) (1.3.2)\n",
            "Requirement already satisfied: retrying>=1.3.3 in /usr/local/lib/python3.7/dist-packages (from plotly->catboost) (1.3.3)\n"
          ]
        }
      ],
      "source": [
        "import numpy as np\n",
        "import pandas as pd\n",
        "import seaborn as sns\n",
        "import matplotlib.pyplot as plt\n",
        "from sklearn.model_selection import StratifiedKFold,cross_val_score\n",
        "from sklearn.preprocessing import PolynomialFeatures\n",
        "from xgboost import XGBClassifier\n",
        "from lightgbm import LGBMClassifier\n",
        "from sklearn.metrics import accuracy_score\n",
        "!pip install catboost\n",
        "from catboost import CatBoostClassifier"
      ]
    },
    {
      "cell_type": "code",
      "execution_count": 2,
      "metadata": {
        "colab": {
          "base_uri": "https://localhost:8080/",
          "height": 225
        },
        "id": "372XPoK8OMQ2",
        "outputId": "b91d188c-2376-4b88-bc8f-b164bc8771ab"
      },
      "outputs": [
        {
          "data": {
            "text/html": [
              "<div>\n",
              "<style scoped>\n",
              "    .dataframe tbody tr th:only-of-type {\n",
              "        vertical-align: middle;\n",
              "    }\n",
              "\n",
              "    .dataframe tbody tr th {\n",
              "        vertical-align: top;\n",
              "    }\n",
              "\n",
              "    .dataframe thead th {\n",
              "        text-align: right;\n",
              "    }\n",
              "</style>\n",
              "<table border=\"1\" class=\"dataframe\">\n",
              "  <thead>\n",
              "    <tr style=\"text-align: right;\">\n",
              "      <th></th>\n",
              "      <th>Gender</th>\n",
              "      <th>Married</th>\n",
              "      <th>Dependents</th>\n",
              "      <th>Education</th>\n",
              "      <th>Self_Employed</th>\n",
              "      <th>ApplicantIncome</th>\n",
              "      <th>CoapplicantIncome</th>\n",
              "      <th>LoanAmount</th>\n",
              "      <th>Loan_Amount_Term</th>\n",
              "      <th>Credit_History</th>\n",
              "      <th>Property_Area</th>\n",
              "      <th>Loan_Status</th>\n",
              "      <th>Loan_ID</th>\n",
              "    </tr>\n",
              "  </thead>\n",
              "  <tbody>\n",
              "    <tr>\n",
              "      <th>0</th>\n",
              "      <td>1.0</td>\n",
              "      <td>0.0</td>\n",
              "      <td>0.0</td>\n",
              "      <td>1.0</td>\n",
              "      <td>0.0</td>\n",
              "      <td>5849.0</td>\n",
              "      <td>0.0</td>\n",
              "      <td>148.0</td>\n",
              "      <td>360.0</td>\n",
              "      <td>1.0</td>\n",
              "      <td>2.0</td>\n",
              "      <td>1.0</td>\n",
              "      <td>LP001002</td>\n",
              "    </tr>\n",
              "    <tr>\n",
              "      <th>1</th>\n",
              "      <td>1.0</td>\n",
              "      <td>1.0</td>\n",
              "      <td>1.0</td>\n",
              "      <td>1.0</td>\n",
              "      <td>0.0</td>\n",
              "      <td>4583.0</td>\n",
              "      <td>1508.0</td>\n",
              "      <td>128.0</td>\n",
              "      <td>360.0</td>\n",
              "      <td>1.0</td>\n",
              "      <td>0.0</td>\n",
              "      <td>0.0</td>\n",
              "      <td>LP001003</td>\n",
              "    </tr>\n",
              "    <tr>\n",
              "      <th>2</th>\n",
              "      <td>1.0</td>\n",
              "      <td>1.0</td>\n",
              "      <td>0.0</td>\n",
              "      <td>1.0</td>\n",
              "      <td>1.0</td>\n",
              "      <td>3000.0</td>\n",
              "      <td>0.0</td>\n",
              "      <td>66.0</td>\n",
              "      <td>360.0</td>\n",
              "      <td>1.0</td>\n",
              "      <td>2.0</td>\n",
              "      <td>1.0</td>\n",
              "      <td>LP001005</td>\n",
              "    </tr>\n",
              "    <tr>\n",
              "      <th>3</th>\n",
              "      <td>1.0</td>\n",
              "      <td>1.0</td>\n",
              "      <td>0.0</td>\n",
              "      <td>0.0</td>\n",
              "      <td>0.0</td>\n",
              "      <td>2583.0</td>\n",
              "      <td>2358.0</td>\n",
              "      <td>120.0</td>\n",
              "      <td>360.0</td>\n",
              "      <td>1.0</td>\n",
              "      <td>2.0</td>\n",
              "      <td>1.0</td>\n",
              "      <td>LP001006</td>\n",
              "    </tr>\n",
              "    <tr>\n",
              "      <th>4</th>\n",
              "      <td>1.0</td>\n",
              "      <td>0.0</td>\n",
              "      <td>0.0</td>\n",
              "      <td>1.0</td>\n",
              "      <td>0.0</td>\n",
              "      <td>6000.0</td>\n",
              "      <td>0.0</td>\n",
              "      <td>141.0</td>\n",
              "      <td>360.0</td>\n",
              "      <td>1.0</td>\n",
              "      <td>2.0</td>\n",
              "      <td>1.0</td>\n",
              "      <td>LP001008</td>\n",
              "    </tr>\n",
              "  </tbody>\n",
              "</table>\n",
              "</div>"
            ],
            "text/plain": [
              "   Gender  Married  Dependents  ...  Property_Area  Loan_Status   Loan_ID\n",
              "0     1.0      0.0         0.0  ...            2.0          1.0  LP001002\n",
              "1     1.0      1.0         1.0  ...            0.0          0.0  LP001003\n",
              "2     1.0      1.0         0.0  ...            2.0          1.0  LP001005\n",
              "3     1.0      1.0         0.0  ...            2.0          1.0  LP001006\n",
              "4     1.0      0.0         0.0  ...            2.0          1.0  LP001008\n",
              "\n",
              "[5 rows x 13 columns]"
            ]
          },
          "execution_count": 2,
          "metadata": {},
          "output_type": "execute_result"
        }
      ],
      "source": [
        "data=pd.read_csv(\"/content/drive/MyDrive/Colab Notebooks/Data Analysis/data_cleaned.csv\")\n",
        "data.head()"
      ]
    },
    {
      "cell_type": "markdown",
      "metadata": {
        "id": "SPYi4rhWr3UZ"
      },
      "source": [
        "## Feature Engineering"
      ]
    },
    {
      "cell_type": "code",
      "execution_count": 3,
      "metadata": {
        "id": "TCVsNmyiW7Pc"
      },
      "outputs": [],
      "source": [
        "poly=PolynomialFeatures(degree=2, interaction_only=True,include_bias=False)\n",
        "\n",
        "data['TotalIncome']=data['ApplicantIncome']+data['CoapplicantIncome']\n",
        "data['IncomeByLoan']=data['TotalIncome']/data['LoanAmount']\n",
        "data['ApplicantByLoan']=data['ApplicantIncome']/data['LoanAmount']\n",
        "data['CoapplicantByLoan']=data['CoapplicantIncome']/data['LoanAmount']\n",
        "data['LoanByTerm']=data['LoanAmount']/data['Loan_Amount_Term']\n",
        "\n",
        "\n",
        "poly1=poly.fit_transform(data[['ApplicantIncome','CoapplicantIncome','LoanAmount','TotalIncome','IncomeByLoan','ApplicantByLoan','CoapplicantByLoan','LoanByTerm']])\n",
        "df_poly=pd.DataFrame(poly1, columns=[f'poly_{i}' for i in range(poly1.shape[1])])\n"
      ]
    },
    {
      "cell_type": "code",
      "execution_count": 4,
      "metadata": {
        "id": "a338mUC-YuJF"
      },
      "outputs": [],
      "source": [
        "new_data=pd.concat([data,df_poly],axis=1)"
      ]
    },
    {
      "cell_type": "code",
      "execution_count": 5,
      "metadata": {
        "id": "zuezsooIcGnR"
      },
      "outputs": [],
      "source": [
        "X=new_data.drop(['Loan_ID','Loan_Status'],axis=1)\n",
        "y=new_data['Loan_Status']"
      ]
    },
    {
      "cell_type": "markdown",
      "metadata": {
        "id": "kGJmU_a6sDz7"
      },
      "source": [
        "## Model Development"
      ]
    },
    {
      "cell_type": "code",
      "execution_count": 6,
      "metadata": {
        "colab": {
          "base_uri": "https://localhost:8080/"
        },
        "id": "GOd0YDLUZWI7",
        "outputId": "01db7c60-108d-4b10-efa7-a96ee6ade7ef"
      },
      "outputs": [
        {
          "name": "stdout",
          "output_type": "stream",
          "text": [
            "Accuracy, fold_1: 0.8048780487804879\n",
            "Accuracy, fold_2: 0.7967479674796748\n",
            "Accuracy, fold_3: 0.8130081300813008\n",
            "Accuracy, fold_4: 0.8455284552845529\n",
            "Accuracy, fold_5: 0.7786885245901639\n",
            "0.8077702252432359\n"
          ]
        }
      ],
      "source": [
        "fold=StratifiedKFold(n_splits=5)\n",
        "\n",
        "F1,i=[],1\n",
        "for train, test in fold.split(X,y):\n",
        "\n",
        "  X_train, X_test = X.iloc[train],X.iloc[test]\n",
        "  y_train, y_test = y.iloc[train],y.iloc[test]\n",
        "\n",
        "  model=XGBClassifier()\n",
        "\n",
        "  model.fit(X_train,y_train)\n",
        "\n",
        "  preds=model.predict(X_test)\n",
        "\n",
        "  print(f'Accuracy, fold_{i}: {accuracy_score(y_test,preds)}')\n",
        "  i+=1\n",
        "  F1.append(accuracy_score(y_test,preds))\n",
        "print(np.mean(F1))"
      ]
    },
    {
      "cell_type": "markdown",
      "metadata": {
        "id": "m-OFZoqosRXe"
      },
      "source": [
        "## Feature Selection"
      ]
    },
    {
      "cell_type": "code",
      "execution_count": 7,
      "metadata": {
        "colab": {
          "base_uri": "https://localhost:8080/",
          "height": 675
        },
        "id": "vvY87WQRZVzN",
        "outputId": "ceba7b85-86f2-4a58-e421-5af0db51ad2d"
      },
      "outputs": [
        {
          "data": {
            "text/plain": [
              "Text(0.5, 1.0, 'Model features importance:')"
            ]
          },
          "execution_count": 7,
          "metadata": {},
          "output_type": "execute_result"
        },
        {
          "data": {
            "image/png": "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",
            "text/plain": [
              "<Figure size 1440x864 with 1 Axes>"
            ]
          },
          "metadata": {
            "needs_background": "light"
          },
          "output_type": "display_data"
        }
      ],
      "source": [
        "# 0.7831404345536787\n",
        "feature_importance_df = pd.DataFrame(model.feature_importances_, columns=['importance'])\n",
        "feature_importance_df['feature'] = new_data.drop(['Loan_ID','Loan_Status'],axis=1).columns\n",
        "\n",
        "plt.figure(figsize=(20, 12))\n",
        "sns.barplot(x=\"importance\", y=\"feature\", data=feature_importance_df.sort_values(by = ['importance'], ascending = False).head(60))\n",
        "plt.title('Model features importance:')"
      ]
    },
    {
      "cell_type": "code",
      "execution_count": 21,
      "metadata": {
        "id": "WdbweSh_baap"
      },
      "outputs": [],
      "source": [
        "new_feat = feature_importance_df.sort_values(by = ['importance'], ascending = False).head(30)['feature'].to_list()"
      ]
    },
    {
      "cell_type": "code",
      "execution_count": 22,
      "metadata": {
        "id": "M8PvUf_dbjfm"
      },
      "outputs": [],
      "source": [
        "X= new_data[new_feat]"
      ]
    },
    {
      "cell_type": "markdown",
      "metadata": {
        "id": "gPyxYtXtsayb"
      },
      "source": [
        "## Hyperparameter Optimization"
      ]
    },
    {
      "cell_type": "code",
      "execution_count": 23,
      "metadata": {
        "colab": {
          "base_uri": "https://localhost:8080/"
        },
        "id": "D7pbvYB2_EU9",
        "outputId": "8bd42338-cf34-4b26-83c4-a79c22c5c941"
      },
      "outputs": [
        {
          "name": "stdout",
          "output_type": "stream",
          "text": [
            "Requirement already satisfied: optuna in /usr/local/lib/python3.7/dist-packages (2.10.0)\n",
            "Requirement already satisfied: cmaes>=0.8.2 in /usr/local/lib/python3.7/dist-packages (from optuna) (0.8.2)\n",
            "Requirement already satisfied: numpy in /usr/local/lib/python3.7/dist-packages (from optuna) (1.19.5)\n",
            "Requirement already satisfied: colorlog in /usr/local/lib/python3.7/dist-packages (from optuna) (6.6.0)\n",
            "Requirement already satisfied: alembic in /usr/local/lib/python3.7/dist-packages (from optuna) (1.7.5)\n",
            "Requirement already satisfied: packaging>=20.0 in /usr/local/lib/python3.7/dist-packages (from optuna) (21.2)\n",
            "Requirement already satisfied: tqdm in /usr/local/lib/python3.7/dist-packages (from optuna) (4.62.3)\n",
            "Requirement already satisfied: sqlalchemy>=1.1.0 in /usr/local/lib/python3.7/dist-packages (from optuna) (1.4.26)\n",
            "Requirement already satisfied: cliff in /usr/local/lib/python3.7/dist-packages (from optuna) (3.9.0)\n",
            "Requirement already satisfied: scipy!=1.4.0 in /usr/local/lib/python3.7/dist-packages (from optuna) (1.4.1)\n",
            "Requirement already satisfied: PyYAML in /usr/local/lib/python3.7/dist-packages (from optuna) (3.13)\n",
            "Requirement already satisfied: pyparsing<3,>=2.0.2 in /usr/local/lib/python3.7/dist-packages (from packaging>=20.0->optuna) (2.4.7)\n",
            "Requirement already satisfied: greenlet!=0.4.17 in /usr/local/lib/python3.7/dist-packages (from sqlalchemy>=1.1.0->optuna) (1.1.2)\n",
            "Requirement already satisfied: importlib-metadata in /usr/local/lib/python3.7/dist-packages (from sqlalchemy>=1.1.0->optuna) (4.8.2)\n",
            "Requirement already satisfied: Mako in /usr/local/lib/python3.7/dist-packages (from alembic->optuna) (1.1.5)\n",
            "Requirement already satisfied: importlib-resources in /usr/local/lib/python3.7/dist-packages (from alembic->optuna) (5.4.0)\n",
            "Requirement already satisfied: pbr!=2.1.0,>=2.0.0 in /usr/local/lib/python3.7/dist-packages (from cliff->optuna) (5.7.0)\n",
            "Requirement already satisfied: cmd2>=1.0.0 in /usr/local/lib/python3.7/dist-packages (from cliff->optuna) (2.3.0)\n",
            "Requirement already satisfied: autopage>=0.4.0 in /usr/local/lib/python3.7/dist-packages (from cliff->optuna) (0.4.0)\n",
            "Requirement already satisfied: PrettyTable>=0.7.2 in /usr/local/lib/python3.7/dist-packages (from cliff->optuna) (2.4.0)\n",
            "Requirement already satisfied: stevedore>=2.0.1 in /usr/local/lib/python3.7/dist-packages (from cliff->optuna) (3.5.0)\n",
            "Requirement already satisfied: typing-extensions in /usr/local/lib/python3.7/dist-packages (from cmd2>=1.0.0->cliff->optuna) (3.10.0.2)\n",
            "Requirement already satisfied: pyperclip>=1.6 in /usr/local/lib/python3.7/dist-packages (from cmd2>=1.0.0->cliff->optuna) (1.8.2)\n",
            "Requirement already satisfied: attrs>=16.3.0 in /usr/local/lib/python3.7/dist-packages (from cmd2>=1.0.0->cliff->optuna) (21.2.0)\n",
            "Requirement already satisfied: wcwidth>=0.1.7 in /usr/local/lib/python3.7/dist-packages (from cmd2>=1.0.0->cliff->optuna) (0.2.5)\n",
            "Requirement already satisfied: zipp>=0.5 in /usr/local/lib/python3.7/dist-packages (from importlib-metadata->sqlalchemy>=1.1.0->optuna) (3.6.0)\n",
            "Requirement already satisfied: MarkupSafe>=0.9.2 in /usr/local/lib/python3.7/dist-packages (from Mako->alembic->optuna) (2.0.1)\n"
          ]
        }
      ],
      "source": [
        "!pip install optuna\n",
        "import optuna"
      ]
    },
    {
      "cell_type": "code",
      "execution_count": 33,
      "metadata": {
        "id": "m6efM2ha82s0"
      },
      "outputs": [],
      "source": [
        "def objective(trial):\n",
        "    oof_f1=[]\n",
        "    oof_predictions=[]\n",
        "\n",
        "\n",
        "    param = {}\n",
        "#     param['objective'] = \"Logloss\"\n",
        "    param['learning_rate'] = trial.suggest_discrete_uniform(\"learning_rate\", 0.001, 0.1, 0.001)\n",
        "    param['depth'] = trial.suggest_int('depth', 3, 15)\n",
        "    param['l2_leaf_reg'] = trial.suggest_discrete_uniform('l2_leaf_reg', 1.0, 5.5, 0.5)\n",
        "    param['min_child_samples'] = trial.suggest_categorical('min_child_samples', [1, 4, 8, 16, 32])\n",
        "    param['iterations'] = trial.suggest_discrete_uniform(\"iterations\", 200, 4000, 50)\n",
        "    param['use_best_model'] = True\n",
        "    param[\"colsample_bylevel\"] =  trial.suggest_float(\"colsample_bylevel\", 0.01, 0.1)\n",
        "    param['random_state'] = 0\n",
        "    param['scale_pos_weight'] = trial.suggest_int('scale_pos_weight', 1, 10)\n",
        "    param['bootstrap_type'] = trial.suggest_categorical(\"bootstrap_type\", [\"Bayesian\", \"Bernoulli\", \"MVS\"])\n",
        "    param['logging_level'] = 'Silent'\n",
        "\n",
        "\n",
        "\n",
        "    fold=StratifiedKFold(n_splits=5)#15#5#10\n",
        "    i=1\n",
        "    for train_index, test_index in fold.split(X,y):\n",
        "        \n",
        "        X_train, X_test = X.iloc[train_index], X.iloc[test_index]\n",
        "        y_train, y_test = y.iloc[train_index], y.iloc[test_index]\n",
        "        #model = CatBoostClassifier(**param)\n",
        "        model = XGBClassifier(**param)\n",
        "    \n",
        "\n",
        "        model.fit(X_train,y_train,eval_set=[(X_train,y_train),(X_test, y_test)], early_stopping_rounds=200, verbose = False)#erly100\n",
        "        preds=model.predict(X_test)\n",
        "\n",
        "        oof_f1.append(accuracy_score(y_test,preds))\n",
        "\n",
        "    return np.mean(oof_f1)"
      ]
    },
    {
      "cell_type": "code",
      "execution_count": 34,
      "metadata": {
        "id": "I2E9OJ3T_Ck_"
      },
      "outputs": [],
      "source": [
        "optuna.logging.set_verbosity(optuna.logging.WARNING)\n",
        "\n",
        "study = optuna.create_study(direction=\"maximize\")\n",
        "study.optimize(objective, n_trials=100)"
      ]
    },
    {
      "cell_type": "code",
      "execution_count": 35,
      "metadata": {
        "colab": {
          "base_uri": "https://localhost:8080/"
        },
        "id": "APOpYcgCVyju",
        "outputId": "10f97546-f68d-4c1f-a13c-225c7f132c47"
      },
      "outputs": [
        {
          "name": "stdout",
          "output_type": "stream",
          "text": [
            "Number of finished trials: 100\n",
            "Best trial:\n",
            "  Value: 0.8257363721178196\n",
            "  Params: \n",
            "    learning_rate: 0.097\n",
            "    depth: 13\n",
            "    l2_leaf_reg: 3.0\n",
            "    min_child_samples: 32\n",
            "    iterations: 3700.0\n",
            "    colsample_bylevel: 0.08756679868460895\n",
            "    scale_pos_weight: 1\n",
            "    bootstrap_type: MVS\n"
          ]
        }
      ],
      "source": [
        "print(\"Number of finished trials: {}\".format(len(study.trials)))\n",
        "\n",
        "print(\"Best trial:\")\n",
        "trial = study.best_trial\n",
        "\n",
        "print(\"  Value: {}\".format(trial.value))\n",
        "\n",
        "print(\"  Params: \")\n",
        "for key, value in trial.params.items():\n",
        "    print(\"    {}: {}\".format(key, value))"
      ]
    },
    {
      "cell_type": "code",
      "execution_count": 36,
      "metadata": {
        "colab": {
          "base_uri": "https://localhost:8080/"
        },
        "id": "LE4AVrkxVQkd",
        "outputId": "770b6b78-6a5d-4a12-e834-40b4ac9d3808"
      },
      "outputs": [
        {
          "name": "stdout",
          "output_type": "stream",
          "text": [
            "err:  0.8292682926829268\n",
            "err:  0.8130081300813008\n",
            "err:  0.8373983739837398\n",
            "err:  0.8699186991869918\n",
            "err:  0.8278688524590164\n",
            "0.8354924696787952\n"
          ]
        }
      ],
      "source": [
        "oof_f1=[]\n",
        "lgb_oof_predictions=[]\n",
        "\n",
        "\n",
        "param = trial.params\n",
        "\n",
        "\n",
        "\n",
        "fold=StratifiedKFold(n_splits=5)#15#5#10\n",
        "i=1\n",
        "\n",
        "for train_index, test_index in fold.split(X,y):\n",
        "        \n",
        "    X_train, X_test = X.iloc[train_index], X.iloc[test_index]\n",
        "    y_train, y_test = y.iloc[train_index], y.iloc[test_index]\n",
        "    \n",
        "    model = XGBClassifier(**param ,n_estimators=1000)\n",
        "\n",
        "    model.fit(X_train,y_train,eval_set=[(X_train,y_train),(X_test, y_test)], early_stopping_rounds=500, verbose = False)#erly100\n",
        "    preds=model.predict(X_test)\n",
        "    print(\"err: \",accuracy_score(y_test,preds))\n",
        "    oof_f1.append(accuracy_score(y_test,preds))\n",
        "    lgb_oof_predictions.append(model.predict_proba(X_test)[:,-1])\n",
        "    \n",
        "print(np.mean(oof_f1))"
      ]
    }
  ],
  "metadata": {
    "colab": {
      "authorship_tag": "ABX9TyNSjKaCas2++a+HRY2aotvu",
      "collapsed_sections": [],
      "include_colab_link": true,
      "mount_file_id": "1ee8_pOLtSlZ9zgvAS5FeFAxiuGkjEQBE",
      "name": "Model_Improvement.ipynb",
      "provenance": []
    },
    "kernelspec": {
      "display_name": "Python 3.10.0 64-bit",
      "language": "python",
      "name": "python3"
    },
    "language_info": {
      "name": "python",
      "version": "3.10.0"
    },
    "vscode": {
      "interpreter": {
        "hash": "369f2c481f4da34e4445cda3fffd2e751bd1c4d706f27375911949ba6bb62e1c"
      }
    }
  },
  "nbformat": 4,
  "nbformat_minor": 0
>>>>>>> c28aa6b9062d88b416d69d9d433d0cf35e65d22f
}
