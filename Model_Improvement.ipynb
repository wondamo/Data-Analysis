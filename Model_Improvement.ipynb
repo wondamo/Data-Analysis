{
 "cells": [
  {
   "cell_type": "markdown",
   "metadata": {
    "colab_type": "text",
    "id": "view-in-github"
   },
   "source": [
    "<a href=\"https://colab.research.google.com/github/Wondav/Data-Analysis/blob/main/Model_Improvement.ipynb\" target=\"_parent\"><img src=\"https://colab.research.google.com/assets/colab-badge.svg\" alt=\"Open In Colab\"/></a>"
   ]
  },
  {
   "cell_type": "code",
   "execution_count": 1,
   "metadata": {
    "colab": {
     "base_uri": "https://localhost:8080/"
    },
    "id": "fGvfAAdx5gDo",
    "outputId": "356cf740-7542-40b5-e59d-81d162a884cd"
   },
   "outputs": [],
   "source": [
    "import numpy as np\n",
    "import pandas as pd\n",
    "import seaborn as sns\n",
    "import matplotlib.pyplot as plt\n",
    "import joblib\n",
    "import optuna\n",
    "from sklearn.model_selection import StratifiedKFold,cross_val_score\n",
    "from sklearn.preprocessing import PolynomialFeatures\n",
    "from catboost import CatBoostClassifier\n",
    "from sklearn.metrics import accuracy_score"
   ]
  },
  {
   "cell_type": "code",
   "execution_count": 2,
   "metadata": {
    "colab": {
     "base_uri": "https://localhost:8080/",
     "height": 225
    },
    "id": "372XPoK8OMQ2",
    "outputId": "b91d188c-2376-4b88-bc8f-b164bc8771ab"
   },
   "outputs": [
    {
     "data": {
      "text/html": [
       "<div>\n",
       "<style scoped>\n",
       "    .dataframe tbody tr th:only-of-type {\n",
       "        vertical-align: middle;\n",
       "    }\n",
       "\n",
       "    .dataframe tbody tr th {\n",
       "        vertical-align: top;\n",
       "    }\n",
       "\n",
       "    .dataframe thead th {\n",
       "        text-align: right;\n",
       "    }\n",
       "</style>\n",
       "<table border=\"1\" class=\"dataframe\">\n",
       "  <thead>\n",
       "    <tr style=\"text-align: right;\">\n",
       "      <th></th>\n",
       "      <th>Gender</th>\n",
       "      <th>Married</th>\n",
       "      <th>Dependents</th>\n",
       "      <th>Education</th>\n",
       "      <th>Self_Employed</th>\n",
       "      <th>ApplicantIncome</th>\n",
       "      <th>CoapplicantIncome</th>\n",
       "      <th>LoanAmount</th>\n",
       "      <th>Loan_Amount_Term</th>\n",
       "      <th>Credit_History</th>\n",
       "      <th>Property_Area</th>\n",
       "      <th>Loan_Status</th>\n",
       "      <th>Loan_ID</th>\n",
       "    </tr>\n",
       "  </thead>\n",
       "  <tbody>\n",
       "    <tr>\n",
       "      <th>0</th>\n",
       "      <td>1.0</td>\n",
       "      <td>0.0</td>\n",
       "      <td>0.0</td>\n",
       "      <td>1.0</td>\n",
       "      <td>0.0</td>\n",
       "      <td>5849.0</td>\n",
       "      <td>0.0</td>\n",
       "      <td>148.0</td>\n",
       "      <td>360.0</td>\n",
       "      <td>1.0</td>\n",
       "      <td>2.0</td>\n",
       "      <td>1.0</td>\n",
       "      <td>LP001002</td>\n",
       "    </tr>\n",
       "    <tr>\n",
       "      <th>1</th>\n",
       "      <td>1.0</td>\n",
       "      <td>1.0</td>\n",
       "      <td>1.0</td>\n",
       "      <td>1.0</td>\n",
       "      <td>0.0</td>\n",
       "      <td>4583.0</td>\n",
       "      <td>1508.0</td>\n",
       "      <td>128.0</td>\n",
       "      <td>360.0</td>\n",
       "      <td>1.0</td>\n",
       "      <td>0.0</td>\n",
       "      <td>0.0</td>\n",
       "      <td>LP001003</td>\n",
       "    </tr>\n",
       "    <tr>\n",
       "      <th>2</th>\n",
       "      <td>1.0</td>\n",
       "      <td>1.0</td>\n",
       "      <td>0.0</td>\n",
       "      <td>1.0</td>\n",
       "      <td>1.0</td>\n",
       "      <td>3000.0</td>\n",
       "      <td>0.0</td>\n",
       "      <td>66.0</td>\n",
       "      <td>360.0</td>\n",
       "      <td>1.0</td>\n",
       "      <td>2.0</td>\n",
       "      <td>1.0</td>\n",
       "      <td>LP001005</td>\n",
       "    </tr>\n",
       "    <tr>\n",
       "      <th>3</th>\n",
       "      <td>1.0</td>\n",
       "      <td>1.0</td>\n",
       "      <td>0.0</td>\n",
       "      <td>0.0</td>\n",
       "      <td>0.0</td>\n",
       "      <td>2583.0</td>\n",
       "      <td>2358.0</td>\n",
       "      <td>120.0</td>\n",
       "      <td>360.0</td>\n",
       "      <td>1.0</td>\n",
       "      <td>2.0</td>\n",
       "      <td>1.0</td>\n",
       "      <td>LP001006</td>\n",
       "    </tr>\n",
       "    <tr>\n",
       "      <th>4</th>\n",
       "      <td>1.0</td>\n",
       "      <td>0.0</td>\n",
       "      <td>0.0</td>\n",
       "      <td>1.0</td>\n",
       "      <td>0.0</td>\n",
       "      <td>6000.0</td>\n",
       "      <td>0.0</td>\n",
       "      <td>141.0</td>\n",
       "      <td>360.0</td>\n",
       "      <td>1.0</td>\n",
       "      <td>2.0</td>\n",
       "      <td>1.0</td>\n",
       "      <td>LP001008</td>\n",
       "    </tr>\n",
       "  </tbody>\n",
       "</table>\n",
       "</div>"
      ],
      "text/plain": [
       "   Gender  Married  Dependents  Education  Self_Employed  ApplicantIncome  \\\n",
       "0     1.0      0.0         0.0        1.0            0.0           5849.0   \n",
       "1     1.0      1.0         1.0        1.0            0.0           4583.0   \n",
       "2     1.0      1.0         0.0        1.0            1.0           3000.0   \n",
       "3     1.0      1.0         0.0        0.0            0.0           2583.0   \n",
       "4     1.0      0.0         0.0        1.0            0.0           6000.0   \n",
       "\n",
       "   CoapplicantIncome  LoanAmount  Loan_Amount_Term  Credit_History  \\\n",
       "0                0.0       148.0             360.0             1.0   \n",
       "1             1508.0       128.0             360.0             1.0   \n",
       "2                0.0        66.0             360.0             1.0   \n",
       "3             2358.0       120.0             360.0             1.0   \n",
       "4                0.0       141.0             360.0             1.0   \n",
       "\n",
       "   Property_Area  Loan_Status   Loan_ID  \n",
       "0            2.0          1.0  LP001002  \n",
       "1            0.0          0.0  LP001003  \n",
       "2            2.0          1.0  LP001005  \n",
       "3            2.0          1.0  LP001006  \n",
       "4            2.0          1.0  LP001008  "
      ]
     },
     "execution_count": 2,
     "metadata": {},
     "output_type": "execute_result"
    }
   ],
   "source": [
    "data=pd.read_csv(\"data_cleaned.csv\")\n",
    "data.head()"
   ]
  },
  {
   "cell_type": "markdown",
   "metadata": {
    "id": "SPYi4rhWr3UZ"
   },
   "source": [
    "## Feature Engineering"
   ]
  },
  {
   "cell_type": "code",
   "execution_count": 3,
   "metadata": {
    "id": "TCVsNmyiW7Pc"
   },
   "outputs": [],
   "source": [
    "poly=PolynomialFeatures(degree=2, interaction_only=True,include_bias=False)\n",
    "\n",
    "data['TotalIncome']=data['ApplicantIncome']+data['CoapplicantIncome']\n",
    "data['IncomeByLoan']=data['TotalIncome']/data['LoanAmount']\n",
    "data['ApplicantByLoan']=data['ApplicantIncome']/data['LoanAmount']\n",
    "data['CoapplicantByLoan']=data['CoapplicantIncome']/data['LoanAmount']\n",
    "data['LoanByTerm']=data['LoanAmount']/data['Loan_Amount_Term']\n",
    "\n",
    "\n",
    "poly1=poly.fit_transform(data[['ApplicantIncome','CoapplicantIncome','LoanAmount','TotalIncome','IncomeByLoan','ApplicantByLoan','CoapplicantByLoan','LoanByTerm']])\n",
    "df_poly=pd.DataFrame(poly1, columns=[f'poly_{i}' for i in range(poly1.shape[1])])\n"
   ]
  },
  {
   "cell_type": "code",
   "execution_count": 4,
   "metadata": {
    "id": "a338mUC-YuJF"
   },
   "outputs": [],
   "source": [
    "new_data=pd.concat([data,df_poly],axis=1)"
   ]
  },
  {
   "cell_type": "code",
   "execution_count": 5,
   "metadata": {
    "id": "zuezsooIcGnR"
   },
   "outputs": [],
   "source": [
    "X=new_data.drop(['Loan_ID','Loan_Status'],axis=1)\n",
    "y=new_data['Loan_Status']"
   ]
  },
  {
   "cell_type": "markdown",
   "metadata": {
    "id": "kGJmU_a6sDz7"
   },
   "source": [
    "## Model Development"
   ]
  },
  {
   "cell_type": "code",
   "execution_count": 6,
   "metadata": {},
   "outputs": [
    {
     "name": "stdout",
     "output_type": "stream",
     "text": [
      "Accuracy, fold_1: 0.8130081300813008\n",
      "Accuracy, fold_2: 0.8048780487804879\n",
      "Accuracy, fold_3: 0.7804878048780488\n",
      "Accuracy, fold_4: 0.8536585365853658\n",
      "Accuracy, fold_5: 0.819672131147541\n",
      "0.8143409302945489\n"
     ]
    }
   ],
   "source": [
    "fold=StratifiedKFold(n_splits=5)\n",
    "\n",
    "F1,i=[],1\n",
    "for train, test in fold.split(X,y):\n",
    "    X_train, X_test = X.iloc[train],X.iloc[test]\n",
    "    y_train, y_test = y.iloc[train],y.iloc[test]\n",
    "    \n",
    "    cat=CatBoostClassifier(verbose=False)\n",
    "    \n",
    "    cat.fit(X_train,y_train)\n",
    "    \n",
    "    preds=cat.predict(X_test)\n",
    "    \n",
    "    print(f'Accuracy, fold_{i}: {accuracy_score(y_test,preds)}')\n",
    "    i+=1\n",
    "    F1.append(accuracy_score(y_test,preds))\n",
    "print(np.mean(F1))"
   ]
  },
  {
   "cell_type": "markdown",
   "metadata": {
    "id": "m-OFZoqosRXe"
   },
   "source": [
    "## Feature Selection"
   ]
  },
  {
   "cell_type": "code",
   "execution_count": 7,
   "metadata": {
    "colab": {
     "base_uri": "https://localhost:8080/",
     "height": 675
    },
    "id": "vvY87WQRZVzN",
    "outputId": "ceba7b85-86f2-4a58-e421-5af0db51ad2d"
   },
   "outputs": [
    {
     "data": {
      "text/plain": [
       "Text(0.5, 1.0, 'Model features importance:')"
      ]
     },
     "execution_count": 7,
     "metadata": {},
     "output_type": "execute_result"
    },
    {
     "data": {
      "image/png": "[encoded data removed]",
      "text/plain": [
       "<Figure size 1440x864 with 1 Axes>"
      ]
     },
     "metadata": {
      "needs_background": "light"
     },
     "output_type": "display_data"
    }
   ],
   "source": [
    "# 0.7831404345536787\n",
    "feature_importance_df = pd.DataFrame(cat.feature_importances_, columns=['importance'])\n",
    "feature_importance_df['feature'] = new_data.drop(['Loan_ID','Loan_Status'],axis=1).columns\n",
    "\n",
    "plt.figure(figsize=(20, 12))\n",
    "sns.barplot(x=\"importance\", y=\"feature\", data=feature_importance_df.sort_values(by = ['importance'], ascending = False).head(60))\n",
    "plt.title('Model features importance:')"
   ]
  },
  {
   "cell_type": "code",
   "execution_count": 8,
   "metadata": {
    "id": "WdbweSh_baap"
   },
   "outputs": [],
   "source": [
    "cat_feat = feature_importance_df.sort_values(by = ['importance'], ascending = False).head(30)['feature'].to_list()"
   ]
  },
  {
   "cell_type": "code",
   "execution_count": 9,
   "metadata": {
    "id": "M8PvUf_dbjfm"
   },
   "outputs": [],
   "source": [
    "X= new_data[cat_feat]"
   ]
  },
  {
   "cell_type": "markdown",
   "metadata": {
    "id": "gPyxYtXtsayb"
   },
   "source": [
    "## Hyperparameter Optimization"
   ]
  },
  {
   "cell_type": "code",
   "execution_count": 10,
   "metadata": {
    "id": "m6efM2ha82s0"
   },
   "outputs": [],
   "source": [
    "def objective(trial):\n",
    "    oof_f1=[]\n",
    "    oof_predictions=[]\n",
    "\n",
    "\n",
    "    param = {}\n",
    "    param['learning_rate'] = trial.suggest_discrete_uniform(\"learning_rate\", 0.001, 0.1, 0.001)\n",
    "    param['depth'] = trial.suggest_int('depth', 3, 15)\n",
    "    param['l2_leaf_reg'] = trial.suggest_discrete_uniform('l2_leaf_reg', 1.0, 5.5, 0.5)\n",
    "    param['min_child_samples'] = trial.suggest_categorical('min_child_samples', [1, 4, 8, 16, 32])\n",
    "    param['iterations'] = trial.suggest_discrete_uniform(\"iterations\", 200, 4000, 50)\n",
    "    param[\"colsample_bylevel\"] =  trial.suggest_float(\"colsample_bylevel\", 0.01, 0.1)\n",
    "    param['random_state'] = 0\n",
    "    param['scale_pos_weight'] = trial.suggest_int('scale_pos_weight', 1, 10)\n",
    "    param['bootstrap_type'] = trial.suggest_categorical(\"bootstrap_type\", [\"Bayesian\", \"Bernoulli\", \"MVS\"])\n",
    "    param['logging_level'] = 'Silent'\n",
    "\n",
    "\n",
    "\n",
    "    fold=StratifiedKFold(n_splits=5)\n",
    "    i=1\n",
    "    for train_index, test_index in fold.split(X,y):\n",
    "        \n",
    "        X_train, X_test = X.iloc[train_index], X.iloc[test_index]\n",
    "        y_train, y_test = y.iloc[train_index], y.iloc[test_index]\n",
    "        cat = CatBoostClassifier(**param)\n",
    "    \n",
    "\n",
    "        cat.fit(X_train,y_train,eval_set=[(X_train,y_train),(X_test, y_test)], early_stopping_rounds=100, verbose = False)#erly100\n",
    "        preds=cat.predict(X_test)\n",
    "\n",
    "        oof_f1.append(accuracy_score(y_test,preds))\n",
    "\n",
    "    return np.mean(oof_f1)"
   ]
  },
  {
   "cell_type": "code",
   "execution_count": 11,
   "metadata": {
    "id": "I2E9OJ3T_Ck_"
   },
   "outputs": [],
   "source": [
    "optuna.logging.set_verbosity(optuna.logging.WARNING)\n",
    "\n",
    "study = optuna.create_study(direction=\"maximize\")\n",
    "study.optimize(objective, n_trials=100)"
   ]
  },
  {
   "cell_type": "code",
   "execution_count": 12,
   "metadata": {
    "colab": {
     "base_uri": "https://localhost:8080/"
    },
    "id": "APOpYcgCVyju",
    "outputId": "10f97546-f68d-4c1f-a13c-225c7f132c47"
   },
   "outputs": [
    {
     "name": "stdout",
     "output_type": "stream",
     "text": [
      "Number of finished trials: 100\n",
      "Best trial:\n",
      "  Value: 0.8257363721178196\n",
      "  Params: \n",
      "    learning_rate: 0.025\n",
      "    depth: 3\n",
      "    l2_leaf_reg: 1.0\n",
      "    min_child_samples: 32\n",
      "    iterations: 1650.0\n",
      "    colsample_bylevel: 0.09791445180073374\n",
      "    scale_pos_weight: 1\n",
      "    bootstrap_type: MVS\n"
     ]
    }
   ],
   "source": [
    "print(\"Number of finished trials: {}\".format(len(study.trials)))\n",
    "\n",
    "print(\"Best trial:\")\n",
    "trial = study.best_trial\n",
    "\n",
    "print(\"  Value: {}\".format(trial.value))\n",
    "\n",
    "print(\"  Params: \")\n",
    "for key, value in trial.params.items():\n",
    "    print(\"    {}: {}\".format(key, value))"
   ]
  },
  {
   "cell_type": "code",
   "execution_count": 18,
   "metadata": {},
   "outputs": [],
   "source": [
    "model = CatBoostClassifier(**study.best_params, verbose=False)"
   ]
  },
  {
   "cell_type": "code",
   "execution_count": 19,
   "metadata": {},
   "outputs": [
    {
     "data": {
      "text/plain": [
       "<catboost.core.CatBoostClassifier at 0x214a2d5bfa0>"
      ]
     },
     "execution_count": 19,
     "metadata": {},
     "output_type": "execute_result"
    }
   ],
   "source": [
    "model.fit(X,y)"
   ]
  },
  {
   "cell_type": "code",
   "execution_count": 20,
   "metadata": {},
   "outputs": [
    {
     "data": {
      "text/plain": [
       "['cat_loan']"
      ]
     },
     "execution_count": 20,
     "metadata": {},
     "output_type": "execute_result"
    }
   ],
   "source": [
    "joblib.dump(model, 'cat_loan')"
   ]
  }
 ],
 "metadata": {
  "colab": {
   "authorship_tag": "ABX9TyNSjKaCas2++a+HRY2aotvu",
   "collapsed_sections": [],
   "include_colab_link": true,
   "mount_file_id": "1ee8_pOLtSlZ9zgvAS5FeFAxiuGkjEQBE",
   "name": "Model_Improvement.ipynb",
   "provenance": []
  },
  "kernelspec": {
   "display_name": "Python 3 (ipykernel)",
   "language": "python",
   "name": "python3"
  },
  "language_info": {
   "codemirror_mode": {
    "name": "ipython",
    "version": 3
   },
   "file_extension": ".py",
   "mimetype": "text/x-python",
   "name": "python",
   "nbconvert_exporter": "python",
   "pygments_lexer": "ipython3",
   "version": "3.10.4"
  },
  "vscode": {
   "interpreter": {
    "hash": "34024564ae41f543771def55e1cc8f8e6526295bc4872b924a19ccccfa692b05"
   }
  }
 },
 "nbformat": 4,
 "nbformat_minor": 1
}
